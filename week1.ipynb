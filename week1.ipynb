{
 "cells": [
  {
   "cell_type": "markdown",
   "metadata": {},
   "source": [
    "Họ và tên: Nguyễn Khánh Huyền"
   ]
  },
  {
   "cell_type": "code",
   "execution_count": 5,
   "metadata": {},
   "outputs": [],
   "source": [
    "import numpy as np\n",
    "import re"
   ]
  },
  {
   "cell_type": "markdown",
   "metadata": {},
   "source": [
    "##### **Problem 1**: \n",
    "Cho 2 mảng đã được sắp xếp. Tìm giao của hai mảng với độ phức tạp là o(mlog(n)) với m và n tương ứng là độ dài của 2 mảng"
   ]
  },
  {
   "cell_type": "code",
   "execution_count": 2,
   "metadata": {},
   "outputs": [],
   "source": [
    "## Implement binary search\n",
    "def binary_search(arr, target):\n",
    "    left, right = 0, len(arr) - 1\n",
    "    while left <= right:\n",
    "        mid = (left + right) // 2\n",
    "        if arr[mid] == target:\n",
    "            return True\n",
    "        elif arr[mid] < target:\n",
    "            left = mid + 1\n",
    "        else:\n",
    "            right = mid - 1\n",
    "    return False\n",
    "\n",
    "## Find the intersection of two arrays\n",
    "def intersection(arr1, arr2):\n",
    "    # Assum the length of array1 is less than the length of array2\n",
    "    if len(arr1) > len(arr2):\n",
    "        arr1, arr2 = arr2, arr1 \n",
    "    \n",
    "    intersection_result = []\n",
    "    for num in arr1:\n",
    "        if binary_search(arr2, num):\n",
    "            intersection_result.append(num)\n",
    "    \n",
    "    return intersection_result\n"
   ]
  },
  {
   "cell_type": "code",
   "execution_count": 4,
   "metadata": {},
   "outputs": [
    {
     "name": "stdout",
     "output_type": "stream",
     "text": [
      "Intersection of 2 arrays are: [3, 6]\n"
     ]
    }
   ],
   "source": [
    "# Test:\n",
    "arr1 = [1, 3, 4, 6, 7]\n",
    "arr2 = [2, 3, 5, 6]\n",
    "intersect_array = intersection(arr1, arr2)\n",
    "print(f'Intersection of 2 arrays are: {intersect_array}') "
   ]
  },
  {
   "cell_type": "markdown",
   "metadata": {},
   "source": [
    "##### Explanation\n",
    "Gia sử rằng, độ dài của 2 mảng lần lượt là m,n với m< n và len(array1) = m. Độ phức tạp tìm kiếm của một số trong 1 array với độ dài n (array2) là O(log(n)) nên với m phần tử trong array 1 độ phức tạp là O(mlog(n))"
   ]
  },
  {
   "cell_type": "markdown",
   "metadata": {},
   "source": [
    "##### **Problem 2**:\n",
    "Một url là url thỏa mãn các yếu tố\n",
    " (ví dụ 1 url hợp lệ: https://tiki.vn/dien-thoai-may-tinh-bang/c1789?src=mega-menu):\n",
    "- Bắt đầu bằng http hoặc https\n",
    "- Có thể chứa www hoặc không\n",
    "- Tên miền của url (ví dụ tiki)  chỉ chứa các ký tự la tinh hoa/thường từ a-z và chữ số.\n",
    "- Phần domain extension (ví dụ .vn) phải chứa dấu chấm ở đầu, thêm sau là các ký tự in thường có độ dài từ 2 đến 6 ký tự.\n",
    "- Phần path (ví dụ /dien-thoai-may-tinh-bang/c1789?src=mega-menu) không được chứa dấu cách.\n",
    " \n",
    "Viết đoạn regex để kiểm tra xem một url bất kỳ có là hợp lệ hay không.\n"
   ]
  },
  {
   "cell_type": "code",
   "execution_count": 14,
   "metadata": {},
   "outputs": [
    {
     "name": "stdout",
     "output_type": "stream",
     "text": [
      "https://tiki.vn/dien-thoai-may-tinh-bang/c1789?src=mega-  menu is valid: False\n",
      "https://tiki,vn/dien-thoai-may-tinh-bang/c1789?src=mega-menu is valid: False\n",
      "https://tik$i.vn/dien-thoai-may-tinh-bang/c1789?src=mega-menu is valid: False\n",
      "https://www.tiki.vn/dien-thoai-may-tinh-bang/c1789?src=mega-menu is valid: True\n",
      "https://tiki.vn/dien-thoai-may-tinh-bang/c1789?src=mega-menu is valid: True\n"
     ]
    }
   ],
   "source": [
    "def is_valid_url(url):\n",
    "    pattern = r\"^https?://(?:www\\.)?[a-zA-Z0-9]+\\.[a-z]{2,6}(?:/[^\\s]*)?$\"\n",
    "    return bool(re.match(pattern, url))\n",
    "\n",
    "# Test the function\n",
    "urls = [\n",
    "        \"https://tiki.vn/dien-thoai-may-tinh-bang/c1789?src=mega-  menu\",   # invalid because of space in path\n",
    "        \"https://tiki,vn/dien-thoai-may-tinh-bang/c1789?src=mega-menu\",     # invalid because of comma in domain extension,\n",
    "        \"https://tik$i.vn/dien-thoai-may-tinh-bang/c1789?src=mega-menu\",    # invalid because of $ in domain name\n",
    "        \"https://www.tiki.vn/dien-thoai-may-tinh-bang/c1789?src=mega-menu\", # valid \n",
    "        \"https://tiki.vn/dien-thoai-may-tinh-bang/c1789?src=mega-menu\"      # valid\n",
    "        ]\n",
    "\n",
    "for url in urls:\n",
    "    print(f\"{url} is valid: {is_valid_url(url)}\")"
   ]
  },
  {
   "cell_type": "code",
   "execution_count": null,
   "metadata": {},
   "outputs": [],
   "source": [
    "# explain the pattern\n",
    "#  ^https?:// => The URL must start with http:// or https://\n",
    "# (?:www\\.)? => The www. is optional\n",
    "# [a-zA-Z0-9]+ => The domain name must contain at least one letter or digit (or [\\w]+)\n",
    "# \\. => A dot must be present after the domain name\n",
    "# [a-z]{2,6} => The domain name must end with a leftercase letter between 2 and 6 characters long\n",
    "# (?:/[^\\s]*)? => The path is optional. If present, it must start with / and not contain any whitespace characters"
   ]
  },
  {
   "cell_type": "markdown",
   "metadata": {},
   "source": [
    "##### **Problem 3**:\n",
    "- Tìm vị trí đầu tiên và cuối cùng của một thành phần trong mảng đã sắp xếp <bf>\n",
    "- input: một mảng đã được sắp xếp tăng dần và một số \n",
    "- output: vị trí đầu tiên và cuối cùng của số đã cho\n",
    "- nếu không tồn tại thì trả về -1 \n",
    "- Ví dụ:\n",
    "\n",
    "Input: nums = [5,6,7,8,8,15], target = 8, Output: [3,4]\n",
    "Yêu cầu độ phức tạp: O(log n)\n"
   ]
  },
  {
   "cell_type": "code",
   "execution_count": 16,
   "metadata": {},
   "outputs": [],
   "source": [
    "def search_range(nums, target):\n",
    "    # Function to find the first occurrence of target\n",
    "    def find_first(nums, target):\n",
    "        left, right = 0, len(nums) - 1\n",
    "        first_occurrence = -1\n",
    "        while left <= right:\n",
    "            mid = left + (right - left) // 2\n",
    "            if nums[mid] == target:\n",
    "                first_occurrence = mid\n",
    "                right = mid - 1  # Continue searching on the left side\n",
    "            elif nums[mid] < target:\n",
    "                left = mid + 1\n",
    "            else:\n",
    "                right = mid - 1\n",
    "        return first_occurrence\n",
    "    \n",
    "    # Function to find the last occurrence of target\n",
    "    def find_last(nums, target):\n",
    "        left, right = 0, len(nums) - 1\n",
    "        last_occurrence = -1\n",
    "        while left <= right:\n",
    "            mid = left + (right - left) // 2\n",
    "            if nums[mid] == target:\n",
    "                last_occurrence = mid\n",
    "                left = mid + 1  # Continue searching on the right side\n",
    "            elif nums[mid] < target:\n",
    "                left = mid + 1\n",
    "            else:\n",
    "                right = mid - 1\n",
    "        return last_occurrence\n",
    "    \n",
    "    # Find the first and last occurrence of target\n",
    "    first_index = find_first(nums, target)\n",
    "    last_index = find_last(nums, target)\n",
    "    \n",
    "    return [first_index, last_index]\n",
    "\n"
   ]
  },
  {
   "cell_type": "code",
   "execution_count": 17,
   "metadata": {},
   "outputs": [
    {
     "name": "stdout",
     "output_type": "stream",
     "text": [
      "[5, 7]\n"
     ]
    }
   ],
   "source": [
    "# Example usage:\n",
    "nums = [1, 2, 2, 2, 3, 4, 4, 4, 5, 6, 6]\n",
    "target = 4\n",
    "print(search_range(nums, target))\n"
   ]
  },
  {
   "cell_type": "markdown",
   "metadata": {},
   "source": [
    "##### **Problem 4**\n",
    "Prefix Sum and Counting Sort"
   ]
  },
  {
   "cell_type": "code",
   "execution_count": 39,
   "metadata": {},
   "outputs": [
    {
     "name": "stdout",
     "output_type": "stream",
     "text": [
      "1 3 3 4 5 5 9 12 "
     ]
    }
   ],
   "source": [
    "def count_sort(input_array):\n",
    "    # Finding the maximum element of input_array.\n",
    "    M = max(input_array)\n",
    " \n",
    "    # Initializing count_array with 0\n",
    "    count_array = [0] * (M + 1)\n",
    " \n",
    "    # Mapping each element of input_array as an index of count_array\n",
    "    for num in input_array:\n",
    "        count_array[num] += 1\n",
    " \n",
    "    # Calculating prefix sum at every index of count_array\n",
    "    for i in range(1, M + 1):\n",
    "        count_array[i] += count_array[i - 1]\n",
    " \n",
    "    # Creating output_array from count_array\n",
    "    output_array = [0] * len(input_array)\n",
    " \n",
    "    for i in range(len(input_array) - 1, -1, -1):\n",
    "        output_array[count_array[input_array[i]] - 1] = input_array[i]\n",
    "        count_array[input_array[i]] -= 1\n",
    " \n",
    "    return output_array\n",
    " \n",
    "# Driver code\n",
    "if __name__ == \"__main__\":\n",
    "    # Input array\n",
    "    input_array = [4, 3, 12, 1, 5, 5, 3, 9]\n",
    " \n",
    "    # Output array\n",
    "    output_array = count_sort(input_array)\n",
    " \n",
    "    for num in output_array:\n",
    "        print(num, end=\" \")"
   ]
  },
  {
   "cell_type": "markdown",
   "metadata": {},
   "source": [
    "##### **Problem 5**:\n",
    "\n",
    "- Cho một chuỗi s và một từ điển dict. Hãy viết một phương thức add các khoảng trắng vào chuỗi s sao cho thành các câu có thể.\n",
    "- Input:\n",
    "s = \"catsanddog\", \n",
    "wordDict = [\"cat\", \"cats\", \"and\", \"sand\", \"dog\"]\n",
    "- Output:\n",
    "[\n",
    "  \"cats and dog\",\n",
    "  \"cat sand dog\"\n",
    "]\n"
   ]
  },
  {
   "cell_type": "code",
   "execution_count": 38,
   "metadata": {},
   "outputs": [
    {
     "name": "stdout",
     "output_type": "stream",
     "text": [
      "['cat sand dog', 'cats and dog']\n"
     ]
    }
   ],
   "source": [
    "def word_break(s, wordDict):\n",
    "    word_set = set(wordDict)\n",
    "    memo = {}\n",
    "\n",
    "    def backtrack(start):\n",
    "        if start in memo:\n",
    "            return memo[start]\n",
    "        if start == len(s):\n",
    "            return [[]]\n",
    "\n",
    "        sentences = []\n",
    "        for end in range(start + 1, len(s) + 1):\n",
    "            word = s[start:end]\n",
    "            if word in word_set:\n",
    "                next_sentences = backtrack(end)\n",
    "                for next_sentence in next_sentences:\n",
    "                    sentences.append([word] + next_sentence)\n",
    "\n",
    "        memo[start] = sentences\n",
    "        return sentences\n",
    "\n",
    "    sentences_list = backtrack(0)\n",
    "    #print(sentences_list)\n",
    "    result = [' '.join(words) for words in sentences_list]\n",
    "    return result\n",
    "\n",
    "# Example usage:\n",
    "s = \"catsanddog\"\n",
    "wordDict = [\"cat\", \"cats\", \"and\", \"sand\", \"dog\"]\n",
    "print(word_break(s, wordDict))\n"
   ]
  },
  {
   "cell_type": "markdown",
   "metadata": {},
   "source": [
    "##### Explanation\n",
    "- The backtrack function is a recursive function that takes the start index of the current substring as an argument.\n",
    "- It returns a list of all possible sentences that can be formed starting from the given index.\n",
    "- The function iterates over all possible end indices of the substring starting from the given index.\n",
    "- For each end index, it checks if the substring from start to end is a valid word in the wordDict.\n",
    "- If it is a valid word, the function recursively calls itself with the new end index to get all possible sentences starting from the new index.\n",
    "- The function then combines the current word with each sentence obtained from the recursive call and adds it to the list of sentences.\n",
    "- Finally, the function memoizes the result for the current start index and returns the list of sentences.\n",
    "- The main function calls the backtrack function with the start index 0 and converts the list of sentences into a list of strings before returning the result."
   ]
  },
  {
   "cell_type": "markdown",
   "metadata": {},
   "source": []
  }
 ],
 "metadata": {
  "kernelspec": {
   "display_name": "Python 3",
   "language": "python",
   "name": "python3"
  },
  "language_info": {
   "codemirror_mode": {
    "name": "ipython",
    "version": 3
   },
   "file_extension": ".py",
   "mimetype": "text/x-python",
   "name": "python",
   "nbconvert_exporter": "python",
   "pygments_lexer": "ipython3",
   "version": "3.12.3"
  }
 },
 "nbformat": 4,
 "nbformat_minor": 2
}
